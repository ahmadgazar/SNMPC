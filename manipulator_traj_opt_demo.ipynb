{
 "cells": [
  {
   "cell_type": "code",
   "execution_count": null,
   "id": "8773e52d",
   "metadata": {},
   "outputs": [],
   "source": [
    "from manipulator_casadi_model import fixedBaseManipulatorCasadiModel\n",
    "from manipulator_acados_solver import ManipulatorSolverAcados\n",
    "from utils import compute_5th_order_poly_traj\n",
    "import matplotlib.pyplot as plt\n",
    "import meshcat.geometry as g\n",
    "import conf_kuka as conf\n",
    "import pinocchio as pin\n",
    "import casadi as ca\n",
    "import numpy as np\n",
    "import meshcat\n",
    "import utils"
   ]
  },
  {
   "cell_type": "code",
   "execution_count": null,
   "id": "2f6b0e27",
   "metadata": {},
   "outputs": [],
   "source": [
    "# create an end-effector trajectory using a quintic polynomial\n",
    "x_ref = np.reshape(conf.ee_target_pos, (1, 3))\n",
    "x_ref_N = np.repeat(x_ref, conf.N_traj, axis=0)\n",
    "T = conf.N_traj*conf.dt\n",
    "x, xdot, _ = compute_5th_order_poly_traj(conf.ee_init_pos, conf.ee_target_pos, T, conf.dt)\n",
    "ee_ref = np.concatenate([x, xdot], axis=0)"
   ]
  },
  {
   "cell_type": "code",
   "execution_count": null,
   "id": "0e299481",
   "metadata": {},
   "outputs": [],
   "source": [
    "# create nominal NOCP \n",
    "nominal_solver = ManipulatorSolverAcados(\n",
    "        fixedBaseManipulatorCasadiModel(conf, STOCHASTIC_OCP=False), ee_ref, MPC=False\n",
    "        )\n",
    "# solve nominal NOCP\n",
    "X_nom, U_nom = nominal_solver.solve()"
   ]
  },
  {
   "cell_type": "code",
   "execution_count": null,
   "id": "00726f26",
   "metadata": {},
   "outputs": [],
   "source": [
    "# create stochastic NOCP (95 % obstacle avoidance constraint satisfaction)\n",
    "stochastic_solver_95 = ManipulatorSolverAcados(\n",
    "        fixedBaseManipulatorCasadiModel(conf, STOCHASTIC_OCP=True, epsilon=0.05), ee_ref, MPC=False\n",
    "        )\n",
    "\n",
    "# solve stochastic NOCP\n",
    "X_stoch_95, U_stoch_95 = stochastic_solver_95.solve()"
   ]
  },
  {
   "cell_type": "code",
   "execution_count": null,
   "id": "cd2159a2",
   "metadata": {},
   "outputs": [],
   "source": [
    "# create stochastic NOCP (99 % obstacle avoidance constraint satisfaction) \n",
    "stochastic_solver_99 = ManipulatorSolverAcados(\n",
    "        fixedBaseManipulatorCasadiModel(conf, STOCHASTIC_OCP=True, epsilon=0.01), ee_ref, MPC=False\n",
    "        )\n",
    "\n",
    "# solve stochastic NOCP\n",
    "X_stoch_99, U_stoch_99 = stochastic_solver_99.solve()"
   ]
  },
  {
   "cell_type": "code",
   "execution_count": null,
   "id": "7a8d7603",
   "metadata": {},
   "outputs": [],
   "source": [
    "# visualize trajectories\n",
    "dt = conf.dt\n",
    "dt_ctrl = 0.01\n",
    "N_ctrl =  int(dt/dt_ctrl)\n",
    "rmodel = conf.rmodel\n",
    "rdata = conf.rdata\n",
    "ee_nom = np.zeros((3, N_ctrl*(X_nom.shape[0]-1))).astype(np.float32)\n",
    "ee_stoch_95 = np.zeros((3, N_ctrl*(X_stoch_95.shape[0]-1))).astype(np.float32)\n",
    "ee_stoch_99 = np.zeros((3, N_ctrl*(X_stoch_99.shape[0]-1))).astype(np.float32)\n",
    "robot = conf.robot\n",
    "# initialize meshcat viewer\n",
    "viz = pin.visualize.MeshcatVisualizer(\n",
    "        robot.model, robot.collision_model, robot.visual_model\n",
    "        )\n",
    "viz.initViewer(open=True)\n",
    "viz.loadViewerModel()\n",
    "# add L-shaped obstacle\n",
    "utils.addViewerBox(viz, 'world/box1', .1, .1, .0, [1., .2, .2, .5])\n",
    "utils.applyViewerConfiguration(viz, 'world/box1', [0.65, -0., 0.4, 1, 0, 0, 0])\n",
    "utils.addViewerBox(viz, 'world/box2', .1, .0, .1, [1., .2, .2, .5])\n",
    "utils.applyViewerConfiguration(viz, 'world/box2', [0.65, -0.05, 0.4+0.05, 1, 0, 0, 0])\n",
    "# visualize nominal motion\n",
    "for i in range(conf.N_traj-1):\n",
    "    x_des_nom, tau_des_nom = nominal_solver.interpolate_one_step(\n",
    "        X_nom[i, :7], X_nom[i+1, :7], \n",
    "        X_nom[i, 7:14], X_nom[i+1, 7:14],\n",
    "        U_nom[i], U_nom[i+1]\n",
    "    )\n",
    "    for t in range(N_ctrl):\n",
    "        q_des_nom = x_des_nom[t, :7]\n",
    "        pin.framesForwardKinematics(rmodel, rdata, q_des_nom)\n",
    "        ee_pos_nom = rdata.oMf[rmodel.getFrameId('contact')].translation\n",
    "        ee_nom[:, i+t] = ee_pos_nom\n",
    "        viz.display(q_des_nom)\n",
    "# visualize stochastic motion (95 % obstacle avoidance constraint satisfaction)\n",
    "for i in range(conf.N_traj-1):\n",
    "    x_des_stoch_95, tau_des_stoch_95 = stochastic_solver_95.interpolate_one_step(\n",
    "        X_stoch_95[i, :7], X_stoch_95[i+1, :7], \n",
    "        X_stoch_95[i, 7:14], X_stoch_95[i+1, 7:14],\n",
    "        U_stoch_95[i], U_stoch_95[i+1]\n",
    "    )\n",
    "    for t in range(N_ctrl):\n",
    "        q_des_stoch_95 = x_des_stoch_95[t, :7]\n",
    "        pin.framesForwardKinematics(rmodel, rdata, q_des_stoch_95)\n",
    "        ee_pos_stoch_95 = rdata.oMf[rmodel.getFrameId('contact')].translation\n",
    "        ee_stoch_95[:, i+t] = ee_pos_stoch_95\n",
    "        viz.display(q_des_stoch_95)\n",
    "# visualize stochastic motion (99 % obstacle avoidance constraint satisfaction)\n",
    "for i in range(conf.N_traj-1):\n",
    "    x_des_stoch_99, tau_des_stoch_99 = stochastic_solver_99.interpolate_one_step(\n",
    "        X_stoch_99[i, :7], X_stoch_99[i+1, :7], \n",
    "        X_stoch_99[i, 7:14], X_stoch_99[i+1, 7:14],\n",
    "        U_stoch_99[i], U_stoch_99[i+1]\n",
    "    )\n",
    "    for t in range(N_ctrl):\n",
    "        q_des_stoch_99 = x_des_stoch_99[t, :7]\n",
    "        pin.framesForwardKinematics(rmodel, rdata, q_des_stoch_99)\n",
    "        ee_pos_stoch_99 = rdata.oMf[rmodel.getFrameId('contact')].translation\n",
    "        ee_stoch_99[:, i+t] = ee_pos_stoch_99\n",
    "        viz.display(q_des_stoch_99)             \n",
    "# display end-effector trajectory\n",
    "utils.addLineSegment(viz, 'ee_trajectory_nom', ee_nom, [1,0,0,1])\n",
    "utils.addLineSegment(viz, 'ee_trajectory_stoch_95', ee_stoch_95, [0,1,0,1])\n",
    "utils.addLineSegment(viz, 'ee_trajectory_stoch_99', ee_stoch_99, [0,0,1,1])"
   ]
  }
 ],
 "metadata": {
  "kernelspec": {
   "display_name": "Python 3 (ipykernel)",
   "language": "python",
   "name": "python3"
  },
  "language_info": {
   "codemirror_mode": {
    "name": "ipython",
    "version": 3
   },
   "file_extension": ".py",
   "mimetype": "text/x-python",
   "name": "python",
   "nbconvert_exporter": "python",
   "pygments_lexer": "ipython3",
   "version": "3.8.10"
  }
 },
 "nbformat": 4,
 "nbformat_minor": 5
}

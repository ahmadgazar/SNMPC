{
 "cells": [
  {
   "cell_type": "code",
   "execution_count": null,
   "metadata": {},
   "outputs": [],
   "source": [
    "from robot_properties_solo.solo12wrapper import Solo12Config\n",
    "from robot_properties_solo.solo12wrapper import Solo12Robot\n",
    "from bullet_utils.env import BulletEnvWithGround\n",
    "from simulate_solo import Simulator\n",
    "import conf_solo12_trot as conf\n",
    "\n",
    "# initialize robot in pybullet\n",
    "env = BulletEnvWithGround()\n",
    "simulator = Simulator(env, Solo12Robot(), conf)\n",
    "robot = Solo12Config.buildRobotWrapper()\n",
    "q0, dq0 = simulator.q0, simulator.nu0\n",
    "simulator.robot.reset_state(q0, dq0) \n",
    "simulator.robot.pin_robot.framesForwardKinematics(q0)"
   ]
  },
  {
   "cell_type": "code",
   "execution_count": null,
   "metadata": {},
   "outputs": [],
   "source": [
    "# # display whole-body motion in meshcat viewer\n",
    "# from wholebody_croccodyl_solver import WholeBodyDDPSolver\n",
    "# from wholebody_croccodyl_model import WholeBodyModel\n",
    "# import pinocchio as pin\n",
    "# import sys\n",
    "\n",
    "# wbd_model = WholeBodyModel(conf)\n",
    "# ddp_planner = WholeBodyDDPSolver(wbd_model, MPC=True, WARM_START=True)\n",
    "# N_inner = int(conf.dt/conf.dt_ctrl)\n",
    "\n",
    "# sol = ddp_planner.run_OL_MPC(None, None)\n",
    "\n",
    "# if conf.WITH_MESHCAT_DISPLAY:\n",
    "#     viz = pin.visualize.MeshcatVisualizer(\n",
    "#     robot.model, robot.collision_model, robot.visual_model)\n",
    "#     try:\n",
    "#         viz.initViewer(open=True)\n",
    "#     except ImportError as err:\n",
    "#         print(\n",
    "#             \"Error while initializing the viewer. Make sure you installed Python meshcat\"\n",
    "#         )\n",
    "#         print(err)\n",
    "#         sys.exit(0)\n",
    "#     viz.loadViewerModel()\n",
    "#     for sol_k in sol:\n",
    "#         q_des, qdot_des, tau_ff = ddp_planner.interpolate_one_step(\n",
    "#         q=sol_k['jointPos'][0], q_next=sol_k['jointPos'][1],\n",
    "#         qdot=sol_k['jointVel'][0],qdot_next=sol_k['jointVel'][1],\n",
    "#         tau=sol_k['jointTorques'][0], tau_next=sol_k['jointTorques'][1]\n",
    "#                 )\n",
    "#         for ctrl_time_idx in range(N_inner):\n",
    "#             viz.display(q_des[ctrl_time_idx])"
   ]
  },
  {
   "cell_type": "code",
   "execution_count": null,
   "metadata": {},
   "outputs": [
    {
     "ename": "",
     "evalue": "",
     "output_type": "error",
     "traceback": [
      "The Kernel crashed while executing code in the the current cell or a previous cell. Please review the code in the cell(s) to identify a possible cause of the failure. Click <a href='https://aka.ms/vscodeJupyterKernelCrash'>here</a> for more info. View Jupyter <a href='command:jupyter.viewOutput'>log</a> for further details."
     ]
    }
   ],
   "source": [
    "# simulate motion in pybullet\n",
    "import numpy as np\n",
    "from wholebody_croccodyl_solver import WholeBodyDDPSolver\n",
    "from wholebody_croccodyl_model import WholeBodyModel\n",
    "import pinocchio as pin\n",
    "wbd_model = WholeBodyModel(conf)\n",
    "ddp_planner = WholeBodyDDPSolver(wbd_model, MPC=True, WARM_START=True)\n",
    "running_models = ddp_planner.whole_body_model.running_models\n",
    "N_traj, N_mpc = ddp_planner.N_traj, ddp_planner.N_mpc\n",
    "Kp = 2*np.eye(12)\n",
    "Kd = 0.01*np.eye(12)\n",
    "N_inner = int(ddp_planner.dt/ddp_planner.dt_ctrl)\n",
    "for traj_time_idx in range(N_traj):\n",
    "    print('\\n'+'=' * 50)\n",
    "    print('MPC Iteration ' + str(traj_time_idx))\n",
    "    print('-' * 50)\n",
    "    # update models\n",
    "    current_running_models = running_models[traj_time_idx:traj_time_idx+N_mpc]\n",
    "    current_terminal_model = current_running_models[-1]\n",
    "    ddp_planner.update_ocp(traj_time_idx)\n",
    "    if traj_time_idx == 0:\n",
    "        if ddp_planner.WARM_START:\n",
    "            ddp_planner.solver.solve(ddp_planner.x_init, ddp_planner.u_init)\n",
    "        else:\n",
    "            ddp_planner.solve()\n",
    "    else:\n",
    "        ddp_planner.solve(xs, us)\n",
    "    sol_k = ddp_planner.get_solution_trajectories()\n",
    "    # scaling DDP gains (what is the proper way of doing this?)\n",
    "    gains = sol_k['gains'][0]*(1/N_inner)\n",
    "    q_des, qdot_des, tau_ff = ddp_planner.interpolate_one_step(\n",
    "                    q=sol_k['jointPos'][0], q_next=sol_k['jointPos'][1],\n",
    "                qdot=sol_k['jointVel'][0],qdot_next=sol_k['jointVel'][1],\n",
    "                tau=sol_k['jointTorques'][0], tau_next=sol_k['jointTorques'][1]\n",
    "                    )\n",
    "    for ctrl_time_idx in range(N_inner):\n",
    "        Kp = gains[:, 6:18]\n",
    "        Kd = gains[:, 24:]\n",
    "        q_k, dq_k = simulator.robot.get_state()\n",
    "        tau_k = tau_ff[ctrl_time_idx] + \\\n",
    "                  Kp @ (q_des[ctrl_time_idx, 7:] - q_k[7:]) + \\\n",
    "                  Kd @ (q_des[ctrl_time_idx, 7:] - dq_k[6:])\n",
    "        simulator.robot.send_joint_command(tau_k)\n",
    "        # step simulation \n",
    "        simulator.env.step(sleep=True)     \n",
    "    q_k, dq_k = simulator.robot.get_state()\n",
    "    # warm-start ocp from the previous solution\n",
    "    x = [ddp_planner.solver.xs[i] for i in range(len(ddp_planner.solver.xs))]\n",
    "    u = [ddp_planner.solver.us[i] for i in range(len(ddp_planner.solver.us))]\n",
    "    us = u[1:] + [u[-1]]    \n",
    "    xs = x[1:] + [x[-1]]\n",
    "    # OL-MPC (initial state = predicted state)\n",
    "    # x0 = xs[0]\n",
    "    # CL-MPC (initial state = measured state)\n",
    "    x0 = np.concatenate([q_k, dq_k])\n",
    "    ddp_planner.x0 = x0\n"
   ]
  }
 ],
 "metadata": {
  "kernelspec": {
   "display_name": "Python 3.8.10 64-bit",
   "language": "python",
   "name": "python3"
  },
  "language_info": {
   "codemirror_mode": {
    "name": "ipython",
    "version": 3
   },
   "file_extension": ".py",
   "mimetype": "text/x-python",
   "name": "python",
   "nbconvert_exporter": "python",
   "pygments_lexer": "ipython3",
   "version": "3.8.10"
  },
  "orig_nbformat": 4,
  "vscode": {
   "interpreter": {
    "hash": "916dbcbb3f70747c44a77c7bcd40155683ae19c65e1c03b4aa3499c5328201f1"
   }
  }
 },
 "nbformat": 4,
 "nbformat_minor": 2
}

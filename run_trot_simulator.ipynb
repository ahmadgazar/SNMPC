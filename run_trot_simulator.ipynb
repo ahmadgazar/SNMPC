{
 "cells": [
  {
   "cell_type": "code",
   "execution_count": null,
   "id": "4db272e6",
   "metadata": {},
   "outputs": [],
   "source": [
    "# import simulation stuff\n",
    "import conf_solo12_trot_step_adjustment_full_kinematics as conf\n",
    "from robot_properties_solo.solo12wrapper import Solo12Config\n",
    "from robot_properties_solo.solo12wrapper import Solo12Robot\n",
    "from bullet_utils.env import BulletEnvWithGround\n",
    "from simulate_solo import Simulator\n",
    "\n",
    "# initialize robot in pybullet\n",
    "env = BulletEnvWithGround()\n",
    "simulator = Simulator(env, Solo12Robot(), conf)\n",
    "robot = Solo12Config.buildRobotWrapper()\n",
    "q0, dq0 = simulator.q0, simulator.nu0\n",
    "simulator.robot.reset_state(q0, dq0) \n",
    "simulator.robot.pin_robot.framesForwardKinematics(q0)\n",
    "\n",
    "step_length = conf.gait['stepLength']\n",
    "w = 0.5*conf.step_adjustment_bound\n",
    "print(len(conf.contact_sequence))\n",
    "for i, c in enumerate(conf.contact_sequence):\n",
    "    for debri in c:\n",
    "        if debri.ACTIVE:\n",
    "            p = debri.pose.translation\n",
    "            simulator.build_one_stepstone(\n",
    "                start_pos=(p[0]-w, p[1], p[2]-0.017), orientation=(0., 0., 0, 1),\n",
    "                stone_length=conf.step_adjustment_bound, stone_width=conf.step_adjustment_bound   \n",
    "    )"
   ]
  },
  {
   "cell_type": "code",
   "execution_count": null,
   "id": "79f2bb54",
   "metadata": {
    "scrolled": false
   },
   "outputs": [],
   "source": [
    "# import models and solvers\n",
    "from centroidal_plus_double_integrator_kinematics_acados_solver import CentroidalPlusLegKinematicsAcadosSolver\n",
    "from centroidal_plus_double_integrator_kinematics_casadi_model  import CentroidalPlusLegKinematicsCasadiModel\n",
    "from wholebody_croccodyl_solver import WholeBodyDDPSolver\n",
    "from wholebody_croccodyl_model import WholeBodyModel\n",
    "import numpy as np\n",
    "\n",
    "# DDP warm-start\n",
    "wbd_model = WholeBodyModel(conf)\n",
    "ddp_planner = WholeBodyDDPSolver(wbd_model, MPC=False, WARM_START=False)\n",
    "ddp_planner.solve()\n",
    "ddp_sol = ddp_planner.get_solution_trajectories()\n",
    "centroidal_warmstart = ddp_sol['centroidal']\n",
    "q_warmstart = ddp_sol['jointPos']\n",
    "qdot_warmstart = ddp_sol['jointVel']\n",
    "x_warmstart = []\n",
    "u_warmstart = []\n",
    "rmodel, rdata = conf.rmodel, conf.rdata\n",
    "for k in range(len(centroidal_warmstart)):\n",
    "    x_warmstart.append(\n",
    "        np.concatenate(\n",
    "            [centroidal_warmstart[k],\n",
    "             q_warmstart[k], \n",
    "             qdot_warmstart[k]]\n",
    "            )\n",
    "        )\n",
    "    u_warmstart.append(np.concatenate([np.zeros(30)]))\n",
    "# nominal traj-opt\n",
    "model_nom = CentroidalPlusLegKinematicsCasadiModel(conf, STOCHASTIC_OCP=True)\n",
    "solver_nom = CentroidalPlusLegKinematicsAcadosSolver(\n",
    "    model_nom, x_warmstart, u_warmstart, MPC=False\n",
    ")\n",
    "x_nom, u_nom = solver_nom.solve()"
   ]
  },
  {
   "cell_type": "code",
   "execution_count": null,
   "id": "81549b3a",
   "metadata": {
    "scrolled": true
   },
   "outputs": [],
   "source": [
    "# run monte-carlo simulations\n",
    "from centroidal_plus_double_integrator_kinematics_acados_simulator import CentroidalPlusLegKinematicsAcadosSimulator\n",
    "nb_sims = 10\n",
    "simulator = CentroidalPlusLegKinematicsAcadosSimulator(model_nom, solver_nom)\n",
    "x_sim = simulator.simulate(x_nom[0, :], u_nom, nb_sims=nb_sims, WITH_DISTURBANCES=True)\n",
    "violations = simulator.count_constraint_violations(x_sim, WITH_VISUALIZATION=True)\n",
    "print(violations)"
   ]
  }
 ],
 "metadata": {
  "kernelspec": {
   "display_name": "mypinocchio",
   "language": "python",
   "name": "mypinocchio"
  },
  "language_info": {
   "codemirror_mode": {
    "name": "ipython",
    "version": 3
   },
   "file_extension": ".py",
   "mimetype": "text/x-python",
   "name": "python",
   "nbconvert_exporter": "python",
   "pygments_lexer": "ipython3",
   "version": "3.8.15"
  }
 },
 "nbformat": 4,
 "nbformat_minor": 5
}
